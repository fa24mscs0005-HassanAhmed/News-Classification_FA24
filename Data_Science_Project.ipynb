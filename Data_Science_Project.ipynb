{
  "nbformat": 4,
  "nbformat_minor": 0,
  "metadata": {
    "colab": {
      "provenance": []
    },
    "kernelspec": {
      "name": "python3",
      "display_name": "Python 3"
    },
    "language_info": {
      "name": "python"
    }
  },
  "cells": [
    {
      "cell_type": "code",
      "source": [
        "import chardet\n",
        "import numpy as np\n",
        "import pandas as pd\n",
        "from collections import Counter\n",
        "import nltk\n",
        "from nltk.tokenize import word_tokenize\n",
        "import string\n",
        "import seaborn as sns\n",
        "import matplotlib.pyplot as plt\n",
        "import re\n",
        "from sklearn.preprocessing import LabelEncoder\n",
        "from sklearn.model_selection import train_test_split\n",
        "from sklearn.feature_extraction.text import TfidfVectorizer\n",
        "from sklearn.naive_bayes import MultinomialNB\n",
        "from sklearn.metrics import classification_report, confusion_matrix"
      ],
      "metadata": {
        "id": "92faDCQW0Owm"
      },
      "execution_count": 19,
      "outputs": []
    },
    {
      "cell_type": "markdown",
      "source": [
        "# **Step 01: Detect the file's encoding**"
      ],
      "metadata": {
        "id": "OCuT3Isc0-fe"
      }
    },
    {
      "cell_type": "code",
      "execution_count": 20,
      "metadata": {
        "id": "jd-BLSN4nB-u",
        "colab": {
          "base_uri": "https://localhost:8080/"
        },
        "outputId": "42db4a86-307e-4f28-cd57-1eb0fd74ba05"
      },
      "outputs": [
        {
          "output_type": "stream",
          "name": "stdout",
          "text": [
            "Detected file encoding: UTF-8-SIG\n"
          ]
        }
      ],
      "source": [
        "file_path = '/content/urdu-news-dataset-1M.csv'\n",
        "\n",
        "with open(file_path, 'rb') as file:\n",
        "    result = chardet.detect(file.read())\n",
        "\n",
        "file_encoding = result['encoding']\n",
        "\n",
        "print(f\"Detected file encoding: {file_encoding}\")"
      ]
    },
    {
      "cell_type": "markdown",
      "source": [
        "# **Step 02: Opening the file and loading the dataset**\n"
      ],
      "metadata": {
        "id": "mASE2UgM1LHA"
      }
    },
    {
      "cell_type": "code",
      "source": [
        "with open(file_path, 'r', encoding=file_encoding, errors='replace') as file:\n",
        "    data = pd.read_csv(file)\n",
        "\n",
        "data.info()"
      ],
      "metadata": {
        "colab": {
          "base_uri": "https://localhost:8080/"
        },
        "id": "zmm58wau1Jmz",
        "outputId": "5babe9df-cc04-441e-9995-bbcaf872736c"
      },
      "execution_count": 21,
      "outputs": [
        {
          "output_type": "stream",
          "name": "stdout",
          "text": [
            "<class 'pandas.core.frame.DataFrame'>\n",
            "RangeIndex: 111861 entries, 0 to 111860\n",
            "Data columns (total 8 columns):\n",
            " #   Column       Non-Null Count   Dtype  \n",
            "---  ------       --------------   -----  \n",
            " 0   Index        111861 non-null  int64  \n",
            " 1   Headline     111861 non-null  object \n",
            " 2   News Text    111861 non-null  object \n",
            " 3   Category     111860 non-null  object \n",
            " 4   Date         111860 non-null  object \n",
            " 5   URL          111860 non-null  object \n",
            " 6   Source       111860 non-null  object \n",
            " 7   News length  111860 non-null  float64\n",
            "dtypes: float64(1), int64(1), object(6)\n",
            "memory usage: 6.8+ MB\n"
          ]
        }
      ]
    },
    {
      "cell_type": "markdown",
      "source": [
        "# **Step 03: Data Analysis**"
      ],
      "metadata": {
        "id": "FrA1VhI71eAF"
      }
    },
    {
      "cell_type": "code",
      "source": [
        "data.head()"
      ],
      "metadata": {
        "colab": {
          "base_uri": "https://localhost:8080/",
          "height": 310
        },
        "id": "UT4TgbSh0mSF",
        "outputId": "db69b25f-6726-4bbd-f5c3-de26c408dfc0"
      },
      "execution_count": 22,
      "outputs": [
        {
          "output_type": "execute_result",
          "data": {
            "text/plain": [
              "   Index                                           Headline  \\\n",
              "0      0  عالمی بینک عسکریت پسندی سے متاثرہ خاندانوں کی ...   \n",
              "1      1  مالی سال 2020 ریٹرن فائل کرنے والوں کی تعداد م...   \n",
              "2      2  جاپان کو سندھ کے خصوصی اقتصادی زون میں سرمایہ ...   \n",
              "3      3   برامدات 767 فیصد بڑھ کر ارب 16 کروڑ ڈالر سے زائد   \n",
              "4      4  کے الیکٹرک کو اضافی بجلی گیس کی فراہمی کے قانو...   \n",
              "\n",
              "                                           News Text              Category  \\\n",
              "0  اسلام باد عالمی بینک خیبرپختونخوا کے قبائلی اض...  Business & Economics   \n",
              "1  اسلام باد فیڈرل بورڈ ریونیو ایف بی نے دسمبر کی...  Business & Economics   \n",
              "2  اسلام باد بورڈ انویسٹمنٹ بی او ئی کے چیئرمین ع...  Business & Economics   \n",
              "3  اسلام اباد پاکستان میں ماہ نومبر میں مسلسل تیس...  Business & Economics   \n",
              "4  اسلام باد نیشنل ٹرانسمیشن اینڈ ڈسپیچ کمپنی این...  Business & Economics   \n",
              "\n",
              "         Date                                    URL     Source  News length  \n",
              "0  2020-12-06  https://www.dawnnews.tv/news/1148499/  Dawn News       1854.0  \n",
              "1  2020-12-06  https://www.dawnnews.tv/news/1148498/  Dawn News       2016.0  \n",
              "2  2020-12-05  https://www.dawnnews.tv/news/1148433/  Dawn News       2195.0  \n",
              "3  2020-12-05  https://www.dawnnews.tv/news/1148430/  Dawn News       2349.0  \n",
              "4  2020-12-05  https://www.dawnnews.tv/news/1148421/  Dawn News       2655.0  "
            ],
            "text/html": [
              "\n",
              "  <div id=\"df-29dcc184-2f91-415e-b744-313f112c50cb\" class=\"colab-df-container\">\n",
              "    <div>\n",
              "<style scoped>\n",
              "    .dataframe tbody tr th:only-of-type {\n",
              "        vertical-align: middle;\n",
              "    }\n",
              "\n",
              "    .dataframe tbody tr th {\n",
              "        vertical-align: top;\n",
              "    }\n",
              "\n",
              "    .dataframe thead th {\n",
              "        text-align: right;\n",
              "    }\n",
              "</style>\n",
              "<table border=\"1\" class=\"dataframe\">\n",
              "  <thead>\n",
              "    <tr style=\"text-align: right;\">\n",
              "      <th></th>\n",
              "      <th>Index</th>\n",
              "      <th>Headline</th>\n",
              "      <th>News Text</th>\n",
              "      <th>Category</th>\n",
              "      <th>Date</th>\n",
              "      <th>URL</th>\n",
              "      <th>Source</th>\n",
              "      <th>News length</th>\n",
              "    </tr>\n",
              "  </thead>\n",
              "  <tbody>\n",
              "    <tr>\n",
              "      <th>0</th>\n",
              "      <td>0</td>\n",
              "      <td>عالمی بینک عسکریت پسندی سے متاثرہ خاندانوں کی ...</td>\n",
              "      <td>اسلام باد عالمی بینک خیبرپختونخوا کے قبائلی اض...</td>\n",
              "      <td>Business &amp; Economics</td>\n",
              "      <td>2020-12-06</td>\n",
              "      <td>https://www.dawnnews.tv/news/1148499/</td>\n",
              "      <td>Dawn News</td>\n",
              "      <td>1854.0</td>\n",
              "    </tr>\n",
              "    <tr>\n",
              "      <th>1</th>\n",
              "      <td>1</td>\n",
              "      <td>مالی سال 2020 ریٹرن فائل کرنے والوں کی تعداد م...</td>\n",
              "      <td>اسلام باد فیڈرل بورڈ ریونیو ایف بی نے دسمبر کی...</td>\n",
              "      <td>Business &amp; Economics</td>\n",
              "      <td>2020-12-06</td>\n",
              "      <td>https://www.dawnnews.tv/news/1148498/</td>\n",
              "      <td>Dawn News</td>\n",
              "      <td>2016.0</td>\n",
              "    </tr>\n",
              "    <tr>\n",
              "      <th>2</th>\n",
              "      <td>2</td>\n",
              "      <td>جاپان کو سندھ کے خصوصی اقتصادی زون میں سرمایہ ...</td>\n",
              "      <td>اسلام باد بورڈ انویسٹمنٹ بی او ئی کے چیئرمین ع...</td>\n",
              "      <td>Business &amp; Economics</td>\n",
              "      <td>2020-12-05</td>\n",
              "      <td>https://www.dawnnews.tv/news/1148433/</td>\n",
              "      <td>Dawn News</td>\n",
              "      <td>2195.0</td>\n",
              "    </tr>\n",
              "    <tr>\n",
              "      <th>3</th>\n",
              "      <td>3</td>\n",
              "      <td>برامدات 767 فیصد بڑھ کر ارب 16 کروڑ ڈالر سے زائد</td>\n",
              "      <td>اسلام اباد پاکستان میں ماہ نومبر میں مسلسل تیس...</td>\n",
              "      <td>Business &amp; Economics</td>\n",
              "      <td>2020-12-05</td>\n",
              "      <td>https://www.dawnnews.tv/news/1148430/</td>\n",
              "      <td>Dawn News</td>\n",
              "      <td>2349.0</td>\n",
              "    </tr>\n",
              "    <tr>\n",
              "      <th>4</th>\n",
              "      <td>4</td>\n",
              "      <td>کے الیکٹرک کو اضافی بجلی گیس کی فراہمی کے قانو...</td>\n",
              "      <td>اسلام باد نیشنل ٹرانسمیشن اینڈ ڈسپیچ کمپنی این...</td>\n",
              "      <td>Business &amp; Economics</td>\n",
              "      <td>2020-12-05</td>\n",
              "      <td>https://www.dawnnews.tv/news/1148421/</td>\n",
              "      <td>Dawn News</td>\n",
              "      <td>2655.0</td>\n",
              "    </tr>\n",
              "  </tbody>\n",
              "</table>\n",
              "</div>\n",
              "    <div class=\"colab-df-buttons\">\n",
              "\n",
              "  <div class=\"colab-df-container\">\n",
              "    <button class=\"colab-df-convert\" onclick=\"convertToInteractive('df-29dcc184-2f91-415e-b744-313f112c50cb')\"\n",
              "            title=\"Convert this dataframe to an interactive table.\"\n",
              "            style=\"display:none;\">\n",
              "\n",
              "  <svg xmlns=\"http://www.w3.org/2000/svg\" height=\"24px\" viewBox=\"0 -960 960 960\">\n",
              "    <path d=\"M120-120v-720h720v720H120Zm60-500h600v-160H180v160Zm220 220h160v-160H400v160Zm0 220h160v-160H400v160ZM180-400h160v-160H180v160Zm440 0h160v-160H620v160ZM180-180h160v-160H180v160Zm440 0h160v-160H620v160Z\"/>\n",
              "  </svg>\n",
              "    </button>\n",
              "\n",
              "  <style>\n",
              "    .colab-df-container {\n",
              "      display:flex;\n",
              "      gap: 12px;\n",
              "    }\n",
              "\n",
              "    .colab-df-convert {\n",
              "      background-color: #E8F0FE;\n",
              "      border: none;\n",
              "      border-radius: 50%;\n",
              "      cursor: pointer;\n",
              "      display: none;\n",
              "      fill: #1967D2;\n",
              "      height: 32px;\n",
              "      padding: 0 0 0 0;\n",
              "      width: 32px;\n",
              "    }\n",
              "\n",
              "    .colab-df-convert:hover {\n",
              "      background-color: #E2EBFA;\n",
              "      box-shadow: 0px 1px 2px rgba(60, 64, 67, 0.3), 0px 1px 3px 1px rgba(60, 64, 67, 0.15);\n",
              "      fill: #174EA6;\n",
              "    }\n",
              "\n",
              "    .colab-df-buttons div {\n",
              "      margin-bottom: 4px;\n",
              "    }\n",
              "\n",
              "    [theme=dark] .colab-df-convert {\n",
              "      background-color: #3B4455;\n",
              "      fill: #D2E3FC;\n",
              "    }\n",
              "\n",
              "    [theme=dark] .colab-df-convert:hover {\n",
              "      background-color: #434B5C;\n",
              "      box-shadow: 0px 1px 3px 1px rgba(0, 0, 0, 0.15);\n",
              "      filter: drop-shadow(0px 1px 2px rgba(0, 0, 0, 0.3));\n",
              "      fill: #FFFFFF;\n",
              "    }\n",
              "  </style>\n",
              "\n",
              "    <script>\n",
              "      const buttonEl =\n",
              "        document.querySelector('#df-29dcc184-2f91-415e-b744-313f112c50cb button.colab-df-convert');\n",
              "      buttonEl.style.display =\n",
              "        google.colab.kernel.accessAllowed ? 'block' : 'none';\n",
              "\n",
              "      async function convertToInteractive(key) {\n",
              "        const element = document.querySelector('#df-29dcc184-2f91-415e-b744-313f112c50cb');\n",
              "        const dataTable =\n",
              "          await google.colab.kernel.invokeFunction('convertToInteractive',\n",
              "                                                    [key], {});\n",
              "        if (!dataTable) return;\n",
              "\n",
              "        const docLinkHtml = 'Like what you see? Visit the ' +\n",
              "          '<a target=\"_blank\" href=https://colab.research.google.com/notebooks/data_table.ipynb>data table notebook</a>'\n",
              "          + ' to learn more about interactive tables.';\n",
              "        element.innerHTML = '';\n",
              "        dataTable['output_type'] = 'display_data';\n",
              "        await google.colab.output.renderOutput(dataTable, element);\n",
              "        const docLink = document.createElement('div');\n",
              "        docLink.innerHTML = docLinkHtml;\n",
              "        element.appendChild(docLink);\n",
              "      }\n",
              "    </script>\n",
              "  </div>\n",
              "\n",
              "\n",
              "<div id=\"df-d9e2d63b-4739-4b48-89e8-4281b05fac15\">\n",
              "  <button class=\"colab-df-quickchart\" onclick=\"quickchart('df-d9e2d63b-4739-4b48-89e8-4281b05fac15')\"\n",
              "            title=\"Suggest charts\"\n",
              "            style=\"display:none;\">\n",
              "\n",
              "<svg xmlns=\"http://www.w3.org/2000/svg\" height=\"24px\"viewBox=\"0 0 24 24\"\n",
              "     width=\"24px\">\n",
              "    <g>\n",
              "        <path d=\"M19 3H5c-1.1 0-2 .9-2 2v14c0 1.1.9 2 2 2h14c1.1 0 2-.9 2-2V5c0-1.1-.9-2-2-2zM9 17H7v-7h2v7zm4 0h-2V7h2v10zm4 0h-2v-4h2v4z\"/>\n",
              "    </g>\n",
              "</svg>\n",
              "  </button>\n",
              "\n",
              "<style>\n",
              "  .colab-df-quickchart {\n",
              "      --bg-color: #E8F0FE;\n",
              "      --fill-color: #1967D2;\n",
              "      --hover-bg-color: #E2EBFA;\n",
              "      --hover-fill-color: #174EA6;\n",
              "      --disabled-fill-color: #AAA;\n",
              "      --disabled-bg-color: #DDD;\n",
              "  }\n",
              "\n",
              "  [theme=dark] .colab-df-quickchart {\n",
              "      --bg-color: #3B4455;\n",
              "      --fill-color: #D2E3FC;\n",
              "      --hover-bg-color: #434B5C;\n",
              "      --hover-fill-color: #FFFFFF;\n",
              "      --disabled-bg-color: #3B4455;\n",
              "      --disabled-fill-color: #666;\n",
              "  }\n",
              "\n",
              "  .colab-df-quickchart {\n",
              "    background-color: var(--bg-color);\n",
              "    border: none;\n",
              "    border-radius: 50%;\n",
              "    cursor: pointer;\n",
              "    display: none;\n",
              "    fill: var(--fill-color);\n",
              "    height: 32px;\n",
              "    padding: 0;\n",
              "    width: 32px;\n",
              "  }\n",
              "\n",
              "  .colab-df-quickchart:hover {\n",
              "    background-color: var(--hover-bg-color);\n",
              "    box-shadow: 0 1px 2px rgba(60, 64, 67, 0.3), 0 1px 3px 1px rgba(60, 64, 67, 0.15);\n",
              "    fill: var(--button-hover-fill-color);\n",
              "  }\n",
              "\n",
              "  .colab-df-quickchart-complete:disabled,\n",
              "  .colab-df-quickchart-complete:disabled:hover {\n",
              "    background-color: var(--disabled-bg-color);\n",
              "    fill: var(--disabled-fill-color);\n",
              "    box-shadow: none;\n",
              "  }\n",
              "\n",
              "  .colab-df-spinner {\n",
              "    border: 2px solid var(--fill-color);\n",
              "    border-color: transparent;\n",
              "    border-bottom-color: var(--fill-color);\n",
              "    animation:\n",
              "      spin 1s steps(1) infinite;\n",
              "  }\n",
              "\n",
              "  @keyframes spin {\n",
              "    0% {\n",
              "      border-color: transparent;\n",
              "      border-bottom-color: var(--fill-color);\n",
              "      border-left-color: var(--fill-color);\n",
              "    }\n",
              "    20% {\n",
              "      border-color: transparent;\n",
              "      border-left-color: var(--fill-color);\n",
              "      border-top-color: var(--fill-color);\n",
              "    }\n",
              "    30% {\n",
              "      border-color: transparent;\n",
              "      border-left-color: var(--fill-color);\n",
              "      border-top-color: var(--fill-color);\n",
              "      border-right-color: var(--fill-color);\n",
              "    }\n",
              "    40% {\n",
              "      border-color: transparent;\n",
              "      border-right-color: var(--fill-color);\n",
              "      border-top-color: var(--fill-color);\n",
              "    }\n",
              "    60% {\n",
              "      border-color: transparent;\n",
              "      border-right-color: var(--fill-color);\n",
              "    }\n",
              "    80% {\n",
              "      border-color: transparent;\n",
              "      border-right-color: var(--fill-color);\n",
              "      border-bottom-color: var(--fill-color);\n",
              "    }\n",
              "    90% {\n",
              "      border-color: transparent;\n",
              "      border-bottom-color: var(--fill-color);\n",
              "    }\n",
              "  }\n",
              "</style>\n",
              "\n",
              "  <script>\n",
              "    async function quickchart(key) {\n",
              "      const quickchartButtonEl =\n",
              "        document.querySelector('#' + key + ' button');\n",
              "      quickchartButtonEl.disabled = true;  // To prevent multiple clicks.\n",
              "      quickchartButtonEl.classList.add('colab-df-spinner');\n",
              "      try {\n",
              "        const charts = await google.colab.kernel.invokeFunction(\n",
              "            'suggestCharts', [key], {});\n",
              "      } catch (error) {\n",
              "        console.error('Error during call to suggestCharts:', error);\n",
              "      }\n",
              "      quickchartButtonEl.classList.remove('colab-df-spinner');\n",
              "      quickchartButtonEl.classList.add('colab-df-quickchart-complete');\n",
              "    }\n",
              "    (() => {\n",
              "      let quickchartButtonEl =\n",
              "        document.querySelector('#df-d9e2d63b-4739-4b48-89e8-4281b05fac15 button');\n",
              "      quickchartButtonEl.style.display =\n",
              "        google.colab.kernel.accessAllowed ? 'block' : 'none';\n",
              "    })();\n",
              "  </script>\n",
              "</div>\n",
              "\n",
              "    </div>\n",
              "  </div>\n"
            ],
            "application/vnd.google.colaboratory.intrinsic+json": {
              "type": "dataframe",
              "variable_name": "data"
            }
          },
          "metadata": {},
          "execution_count": 22
        }
      ]
    },
    {
      "cell_type": "markdown",
      "source": [
        "# **Step 04: Let's check unique categories in our dataset**\n"
      ],
      "metadata": {
        "id": "s6ZF8_4T1kOg"
      }
    },
    {
      "cell_type": "code",
      "source": [
        "print(\"Unique categories:\", data['Category'].unique())\n",
        "print(\"\\nNumber of articles per category:\\n\", data['Category'].value_counts())"
      ],
      "metadata": {
        "colab": {
          "base_uri": "https://localhost:8080/"
        },
        "id": "BhChBH_Gw7X5",
        "outputId": "6e2a4c05-6e87-4c7c-c7a8-02f9afd7f50c"
      },
      "execution_count": 23,
      "outputs": [
        {
          "output_type": "stream",
          "name": "stdout",
          "text": [
            "Unique categories: ['Business & Economics' 'Entertainment' 'Science & Technology' 'Sports'\n",
            " nan]\n",
            "\n",
            "Number of articles per category:\n",
            " Category\n",
            "Sports                  44829\n",
            "Entertainment           34901\n",
            "Business & Economics    24131\n",
            "Science & Technology     7999\n",
            "Name: count, dtype: int64\n"
          ]
        }
      ]
    },
    {
      "cell_type": "markdown",
      "source": [
        "# **Step 05: Exploratory Data Analysis**"
      ],
      "metadata": {
        "id": "gCMA0q995RAm"
      }
    },
    {
      "cell_type": "markdown",
      "source": [
        "## **Category Distribution (Pie Chart)**"
      ],
      "metadata": {
        "id": "jimv4Z354Up_"
      }
    },
    {
      "cell_type": "code",
      "source": [
        "plt.figure(figsize=(8, 8))\n",
        "category_counts = data['Category'].value_counts()\n",
        "plt.pie(category_counts, labels=category_counts.index, autopct='%1.1f%%', startangle=90)\n",
        "plt.title('News Category Distribution')\n",
        "plt.show()\n"
      ],
      "metadata": {
        "colab": {
          "base_uri": "https://localhost:8080/",
          "height": 675
        },
        "id": "FNLQlEMs4Ro7",
        "outputId": "7cc79ec8-f918-4548-b75a-262cc1dd274d"
      },
      "execution_count": 24,
      "outputs": [
        {
          "output_type": "display_data",
          "data": {
            "text/plain": [
              "<Figure size 800x800 with 1 Axes>"
            ],
            "image/png": "[encoded data removed]"
          },
          "metadata": {}
        }
      ]
    },
    {
      "cell_type": "markdown",
      "source": [
        "## **News Length Distribution by Category (Box Plot)**"
      ],
      "metadata": {
        "id": "958wKLqM4g7b"
      }
    },
    {
      "cell_type": "code",
      "source": [
        "plt.figure(figsize=(10, 6))\n",
        "sns.boxplot(x='Category', y='News length', data=data)  # Using 'Category' and 'News length' as the column names\n",
        "plt.title('News Length Distribution by Category')\n",
        "plt.show()"
      ],
      "metadata": {
        "colab": {
          "base_uri": "https://localhost:8080/",
          "height": 564
        },
        "id": "5RPDoxpo4hee",
        "outputId": "a65ce078-cb76-445b-c563-832abeee652f"
      },
      "execution_count": 25,
      "outputs": [
        {
          "output_type": "display_data",
          "data": {
            "text/plain": [
              "<Figure size 1000x600 with 1 Axes>"
            ],
            "image/png": "[encoded data removed]"
          },
          "metadata": {}
        }
      ]
    },
    {
      "cell_type": "markdown",
      "source": [
        "## **Plotting the top words for each category**"
      ],
      "metadata": {
        "id": "AlNZb6VD42fj"
      }
    },
    {
      "cell_type": "code",
      "source": [
        "nltk.download('punkt_tab')\n",
        "category_words = {}\n",
        "for category, group in data.groupby('Category'):\n",
        "    # Concatenate all text within the category\n",
        "    text = ' '.join(group['News Text'].dropna().astype(str))\n",
        "    # Tokenize and remove punctuation\n",
        "    words = word_tokenize(text)\n",
        "    words = [word.lower() for word in words if word.isalpha()]\n",
        "    # Count word frequencies\n",
        "    word_freq = Counter(words)\n",
        "    category_words[category] = word_freq\n",
        "\n",
        "\n",
        "fig, axes = plt.subplots(2, 2, figsize=(15, 10))\n",
        "for idx, (category, word_freq) in enumerate(category_words.items()):\n",
        "    ax = axes[idx // 2, idx % 2]\n",
        "    sorted_words = sorted(word_freq.items(), key=lambda x: x[1], reverse=True)\n",
        "    top_words = sorted_words[:10]\n",
        "    words, counts = zip(*top_words)\n",
        "    sns.barplot(x=list(counts), y=list(words), ax=ax)\n",
        "    ax.set_title(f'Top 10 Words in {category} Category')\n",
        "\n",
        "plt.tight_layout()\n",
        "plt.show()"
      ],
      "metadata": {
        "colab": {
          "base_uri": "https://localhost:8080/",
          "height": 1000
        },
        "id": "b7hjCDYw4wNi",
        "outputId": "5715220d-fb86-457c-9c3e-1edc756076ff"
      },
      "execution_count": 26,
      "outputs": [
        {
          "output_type": "stream",
          "name": "stderr",
          "text": [
            "[nltk_data] Downloading package punkt_tab to /root/nltk_data...\n",
            "[nltk_data]   Unzipping tokenizers/punkt_tab.zip.\n",
            "<ipython-input-26-f9d85d6d7d59>:23: UserWarning: Glyph 1746 (\\N{ARABIC LETTER YEH BARREE}) missing from current font.\n",
            "  plt.tight_layout()\n",
            "<ipython-input-26-f9d85d6d7d59>:23: UserWarning: Matplotlib currently does not support Arabic natively.\n",
            "  plt.tight_layout()\n",
            "<ipython-input-26-f9d85d6d7d59>:23: UserWarning: Glyph 1729 (\\N{ARABIC LETTER HEH GOAL}) missing from current font.\n",
            "  plt.tight_layout()\n",
            "/usr/local/lib/python3.10/dist-packages/IPython/core/pylabtools.py:151: UserWarning: Glyph 1746 (\\N{ARABIC LETTER YEH BARREE}) missing from current font.\n",
            "  fig.canvas.print_figure(bytes_io, **kw)\n",
            "/usr/local/lib/python3.10/dist-packages/IPython/core/pylabtools.py:151: UserWarning: Matplotlib currently does not support Arabic natively.\n",
            "  fig.canvas.print_figure(bytes_io, **kw)\n",
            "/usr/local/lib/python3.10/dist-packages/IPython/core/pylabtools.py:151: UserWarning: Glyph 1729 (\\N{ARABIC LETTER HEH GOAL}) missing from current font.\n",
            "  fig.canvas.print_figure(bytes_io, **kw)\n"
          ]
        },
        {
          "output_type": "display_data",
          "data": {
            "text/plain": [
              "<Figure size 1500x1000 with 4 Axes>"
            ],
            "image/png": "[encoded data removed]"
          },
          "metadata": {}
        }
      ]
    },
    {
      "cell_type": "markdown",
      "source": [
        "# **Step 06: Basic text preprocessing**"
      ],
      "metadata": {
        "id": "-kbbfsXN1n2q"
      }
    },
    {
      "cell_type": "code",
      "source": [
        "def preprocess_text(text):\n",
        "    # Remove special characters and numbers\n",
        "    text = re.sub(r'[^\\w\\s]', '', str(text))\n",
        "    text = re.sub(r'\\d+', '', text)\n",
        "    # Remove extra spaces\n",
        "    text = ' '.join(text.split())\n",
        "    return text"
      ],
      "metadata": {
        "id": "IOqlm3WppmQB"
      },
      "execution_count": 27,
      "outputs": []
    },
    {
      "cell_type": "markdown",
      "source": [
        "### **Apply preprocessing to News Text**\n"
      ],
      "metadata": {
        "id": "pfx_fHSg1sd3"
      }
    },
    {
      "cell_type": "code",
      "source": [
        "data['cleaned_text'] = data['News Text'].apply(preprocess_text)"
      ],
      "metadata": {
        "id": "bcA6_EsYpuxz"
      },
      "execution_count": 28,
      "outputs": []
    },
    {
      "cell_type": "markdown",
      "source": [
        "# **Step 07: Encode the categories**"
      ],
      "metadata": {
        "id": "1UZmtEU91wfw"
      }
    },
    {
      "cell_type": "code",
      "source": [
        "label_encoder = LabelEncoder()\n",
        "data['category_encoded'] = label_encoder.fit_transform(data['Category'])"
      ],
      "metadata": {
        "id": "Sa7q5-1mp2LL"
      },
      "execution_count": 29,
      "outputs": []
    },
    {
      "cell_type": "markdown",
      "source": [
        "# **Step 08: Split the data into features and target**\n"
      ],
      "metadata": {
        "id": "fNf9AoOQ1zYQ"
      }
    },
    {
      "cell_type": "code",
      "source": [
        "X = data['cleaned_text']\n",
        "y = data['category_encoded']"
      ],
      "metadata": {
        "id": "-GC0C3NEqOP8"
      },
      "execution_count": 30,
      "outputs": []
    },
    {
      "cell_type": "markdown",
      "source": [
        "### **keep stratification but remove rare categories**"
      ],
      "metadata": {
        "id": "Fy9-vNWb2BE7"
      }
    },
    {
      "cell_type": "code",
      "source": [
        "category_counts = data['Category'].value_counts()\n",
        "valid_categories = category_counts[category_counts >= 2].index\n",
        "mask = data['Category'].isin(valid_categories)"
      ],
      "metadata": {
        "id": "bRQYHt8vqVMo"
      },
      "execution_count": 31,
      "outputs": []
    },
    {
      "cell_type": "markdown",
      "source": [
        "# **Step 09: Again split the data into features and target**"
      ],
      "metadata": {
        "id": "ss-IPB2G2LDn"
      }
    },
    {
      "cell_type": "code",
      "source": [
        "X = data[mask]['cleaned_text']\n",
        "y = data[mask]['category_encoded']\n",
        "X_train, X_test, y_train, y_test = train_test_split(X, y, test_size=0.2, random_state=42, stratify=y)\n",
        "\n",
        "print(\"\\nTraining set size:\", len(X_train))\n",
        "print(\"Test set size:\", len(X_test))"
      ],
      "metadata": {
        "colab": {
          "base_uri": "https://localhost:8080/"
        },
        "id": "Wj18KPz32Kbn",
        "outputId": "03c2235d-be24-44fa-8dc1-ab67366ac686"
      },
      "execution_count": 32,
      "outputs": [
        {
          "output_type": "stream",
          "name": "stdout",
          "text": [
            "\n",
            "Training set size: 89488\n",
            "Test set size: 22372\n"
          ]
        }
      ]
    },
    {
      "cell_type": "markdown",
      "source": [
        "# **Step 10: Create TF-IDF features**\n"
      ],
      "metadata": {
        "id": "aMQlo-6z2Zmv"
      }
    },
    {
      "cell_type": "code",
      "source": [
        "tfidf = TfidfVectorizer(max_features=5000)\n",
        "X_train_tfidf = tfidf.fit_transform(X_train)\n",
        "X_test_tfidf = tfidf.transform(X_test)"
      ],
      "metadata": {
        "id": "IVOJWslBqZNz"
      },
      "execution_count": 33,
      "outputs": []
    },
    {
      "cell_type": "markdown",
      "source": [
        "# **Step 11: Train a Naive Bayes classifier**"
      ],
      "metadata": {
        "id": "6vr6vH2N2enR"
      }
    },
    {
      "cell_type": "code",
      "source": [
        "model = MultinomialNB()\n",
        "model.fit(X_train_tfidf, y_train)"
      ],
      "metadata": {
        "id": "YMOPvWqTsuzU",
        "colab": {
          "base_uri": "https://localhost:8080/",
          "height": 80
        },
        "outputId": "62b514d3-e962-4e46-c25f-8a8b691c28b5"
      },
      "execution_count": 34,
      "outputs": [
        {
          "output_type": "execute_result",
          "data": {
            "text/plain": [
              "MultinomialNB()"
            ],
            "text/html": [
              "<style>#sk-container-id-1 {\n",
              "  /* Definition of color scheme common for light and dark mode */\n",
              "  --sklearn-color-text: #000;\n",
              "  --sklearn-color-text-muted: #666;\n",
              "  --sklearn-color-line: gray;\n",
              "  /* Definition of color scheme for unfitted estimators */\n",
              "  --sklearn-color-unfitted-level-0: #fff5e6;\n",
              "  --sklearn-color-unfitted-level-1: #f6e4d2;\n",
              "  --sklearn-color-unfitted-level-2: #ffe0b3;\n",
              "  --sklearn-color-unfitted-level-3: chocolate;\n",
              "  /* Definition of color scheme for fitted estimators */\n",
              "  --sklearn-color-fitted-level-0: #f0f8ff;\n",
              "  --sklearn-color-fitted-level-1: #d4ebff;\n",
              "  --sklearn-color-fitted-level-2: #b3dbfd;\n",
              "  --sklearn-color-fitted-level-3: cornflowerblue;\n",
              "\n",
              "  /* Specific color for light theme */\n",
              "  --sklearn-color-text-on-default-background: var(--sg-text-color, var(--theme-code-foreground, var(--jp-content-font-color1, black)));\n",
              "  --sklearn-color-background: var(--sg-background-color, var(--theme-background, var(--jp-layout-color0, white)));\n",
              "  --sklearn-color-border-box: var(--sg-text-color, var(--theme-code-foreground, var(--jp-content-font-color1, black)));\n",
              "  --sklearn-color-icon: #696969;\n",
              "\n",
              "  @media (prefers-color-scheme: dark) {\n",
              "    /* Redefinition of color scheme for dark theme */\n",
              "    --sklearn-color-text-on-default-background: var(--sg-text-color, var(--theme-code-foreground, var(--jp-content-font-color1, white)));\n",
              "    --sklearn-color-background: var(--sg-background-color, var(--theme-background, var(--jp-layout-color0, #111)));\n",
              "    --sklearn-color-border-box: var(--sg-text-color, var(--theme-code-foreground, var(--jp-content-font-color1, white)));\n",
              "    --sklearn-color-icon: #878787;\n",
              "  }\n",
              "}\n",
              "\n",
              "#sk-container-id-1 {\n",
              "  color: var(--sklearn-color-text);\n",
              "}\n",
              "\n",
              "#sk-container-id-1 pre {\n",
              "  padding: 0;\n",
              "}\n",
              "\n",
              "#sk-container-id-1 input.sk-hidden--visually {\n",
              "  border: 0;\n",
              "  clip: rect(1px 1px 1px 1px);\n",
              "  clip: rect(1px, 1px, 1px, 1px);\n",
              "  height: 1px;\n",
              "  margin: -1px;\n",
              "  overflow: hidden;\n",
              "  padding: 0;\n",
              "  position: absolute;\n",
              "  width: 1px;\n",
              "}\n",
              "\n",
              "#sk-container-id-1 div.sk-dashed-wrapped {\n",
              "  border: 1px dashed var(--sklearn-color-line);\n",
              "  margin: 0 0.4em 0.5em 0.4em;\n",
              "  box-sizing: border-box;\n",
              "  padding-bottom: 0.4em;\n",
              "  background-color: var(--sklearn-color-background);\n",
              "}\n",
              "\n",
              "#sk-container-id-1 div.sk-container {\n",
              "  /* jupyter's `normalize.less` sets `[hidden] { display: none; }`\n",
              "     but bootstrap.min.css set `[hidden] { display: none !important; }`\n",
              "     so we also need the `!important` here to be able to override the\n",
              "     default hidden behavior on the sphinx rendered scikit-learn.org.\n",
              "     See: https://github.com/scikit-learn/scikit-learn/issues/21755 */\n",
              "  display: inline-block !important;\n",
              "  position: relative;\n",
              "}\n",
              "\n",
              "#sk-container-id-1 div.sk-text-repr-fallback {\n",
              "  display: none;\n",
              "}\n",
              "\n",
              "div.sk-parallel-item,\n",
              "div.sk-serial,\n",
              "div.sk-item {\n",
              "  /* draw centered vertical line to link estimators */\n",
              "  background-image: linear-gradient(var(--sklearn-color-text-on-default-background), var(--sklearn-color-text-on-default-background));\n",
              "  background-size: 2px 100%;\n",
              "  background-repeat: no-repeat;\n",
              "  background-position: center center;\n",
              "}\n",
              "\n",
              "/* Parallel-specific style estimator block */\n",
              "\n",
              "#sk-container-id-1 div.sk-parallel-item::after {\n",
              "  content: \"\";\n",
              "  width: 100%;\n",
              "  border-bottom: 2px solid var(--sklearn-color-text-on-default-background);\n",
              "  flex-grow: 1;\n",
              "}\n",
              "\n",
              "#sk-container-id-1 div.sk-parallel {\n",
              "  display: flex;\n",
              "  align-items: stretch;\n",
              "  justify-content: center;\n",
              "  background-color: var(--sklearn-color-background);\n",
              "  position: relative;\n",
              "}\n",
              "\n",
              "#sk-container-id-1 div.sk-parallel-item {\n",
              "  display: flex;\n",
              "  flex-direction: column;\n",
              "}\n",
              "\n",
              "#sk-container-id-1 div.sk-parallel-item:first-child::after {\n",
              "  align-self: flex-end;\n",
              "  width: 50%;\n",
              "}\n",
              "\n",
              "#sk-container-id-1 div.sk-parallel-item:last-child::after {\n",
              "  align-self: flex-start;\n",
              "  width: 50%;\n",
              "}\n",
              "\n",
              "#sk-container-id-1 div.sk-parallel-item:only-child::after {\n",
              "  width: 0;\n",
              "}\n",
              "\n",
              "/* Serial-specific style estimator block */\n",
              "\n",
              "#sk-container-id-1 div.sk-serial {\n",
              "  display: flex;\n",
              "  flex-direction: column;\n",
              "  align-items: center;\n",
              "  background-color: var(--sklearn-color-background);\n",
              "  padding-right: 1em;\n",
              "  padding-left: 1em;\n",
              "}\n",
              "\n",
              "\n",
              "/* Toggleable style: style used for estimator/Pipeline/ColumnTransformer box that is\n",
              "clickable and can be expanded/collapsed.\n",
              "- Pipeline and ColumnTransformer use this feature and define the default style\n",
              "- Estimators will overwrite some part of the style using the `sk-estimator` class\n",
              "*/\n",
              "\n",
              "/* Pipeline and ColumnTransformer style (default) */\n",
              "\n",
              "#sk-container-id-1 div.sk-toggleable {\n",
              "  /* Default theme specific background. It is overwritten whether we have a\n",
              "  specific estimator or a Pipeline/ColumnTransformer */\n",
              "  background-color: var(--sklearn-color-background);\n",
              "}\n",
              "\n",
              "/* Toggleable label */\n",
              "#sk-container-id-1 label.sk-toggleable__label {\n",
              "  cursor: pointer;\n",
              "  display: flex;\n",
              "  width: 100%;\n",
              "  margin-bottom: 0;\n",
              "  padding: 0.5em;\n",
              "  box-sizing: border-box;\n",
              "  text-align: center;\n",
              "  align-items: start;\n",
              "  justify-content: space-between;\n",
              "  gap: 0.5em;\n",
              "}\n",
              "\n",
              "#sk-container-id-1 label.sk-toggleable__label .caption {\n",
              "  font-size: 0.6rem;\n",
              "  font-weight: lighter;\n",
              "  color: var(--sklearn-color-text-muted);\n",
              "}\n",
              "\n",
              "#sk-container-id-1 label.sk-toggleable__label-arrow:before {\n",
              "  /* Arrow on the left of the label */\n",
              "  content: \"▸\";\n",
              "  float: left;\n",
              "  margin-right: 0.25em;\n",
              "  color: var(--sklearn-color-icon);\n",
              "}\n",
              "\n",
              "#sk-container-id-1 label.sk-toggleable__label-arrow:hover:before {\n",
              "  color: var(--sklearn-color-text);\n",
              "}\n",
              "\n",
              "/* Toggleable content - dropdown */\n",
              "\n",
              "#sk-container-id-1 div.sk-toggleable__content {\n",
              "  max-height: 0;\n",
              "  max-width: 0;\n",
              "  overflow: hidden;\n",
              "  text-align: left;\n",
              "  /* unfitted */\n",
              "  background-color: var(--sklearn-color-unfitted-level-0);\n",
              "}\n",
              "\n",
              "#sk-container-id-1 div.sk-toggleable__content.fitted {\n",
              "  /* fitted */\n",
              "  background-color: var(--sklearn-color-fitted-level-0);\n",
              "}\n",
              "\n",
              "#sk-container-id-1 div.sk-toggleable__content pre {\n",
              "  margin: 0.2em;\n",
              "  border-radius: 0.25em;\n",
              "  color: var(--sklearn-color-text);\n",
              "  /* unfitted */\n",
              "  background-color: var(--sklearn-color-unfitted-level-0);\n",
              "}\n",
              "\n",
              "#sk-container-id-1 div.sk-toggleable__content.fitted pre {\n",
              "  /* unfitted */\n",
              "  background-color: var(--sklearn-color-fitted-level-0);\n",
              "}\n",
              "\n",
              "#sk-container-id-1 input.sk-toggleable__control:checked~div.sk-toggleable__content {\n",
              "  /* Expand drop-down */\n",
              "  max-height: 200px;\n",
              "  max-width: 100%;\n",
              "  overflow: auto;\n",
              "}\n",
              "\n",
              "#sk-container-id-1 input.sk-toggleable__control:checked~label.sk-toggleable__label-arrow:before {\n",
              "  content: \"▾\";\n",
              "}\n",
              "\n",
              "/* Pipeline/ColumnTransformer-specific style */\n",
              "\n",
              "#sk-container-id-1 div.sk-label input.sk-toggleable__control:checked~label.sk-toggleable__label {\n",
              "  color: var(--sklearn-color-text);\n",
              "  background-color: var(--sklearn-color-unfitted-level-2);\n",
              "}\n",
              "\n",
              "#sk-container-id-1 div.sk-label.fitted input.sk-toggleable__control:checked~label.sk-toggleable__label {\n",
              "  background-color: var(--sklearn-color-fitted-level-2);\n",
              "}\n",
              "\n",
              "/* Estimator-specific style */\n",
              "\n",
              "/* Colorize estimator box */\n",
              "#sk-container-id-1 div.sk-estimator input.sk-toggleable__control:checked~label.sk-toggleable__label {\n",
              "  /* unfitted */\n",
              "  background-color: var(--sklearn-color-unfitted-level-2);\n",
              "}\n",
              "\n",
              "#sk-container-id-1 div.sk-estimator.fitted input.sk-toggleable__control:checked~label.sk-toggleable__label {\n",
              "  /* fitted */\n",
              "  background-color: var(--sklearn-color-fitted-level-2);\n",
              "}\n",
              "\n",
              "#sk-container-id-1 div.sk-label label.sk-toggleable__label,\n",
              "#sk-container-id-1 div.sk-label label {\n",
              "  /* The background is the default theme color */\n",
              "  color: var(--sklearn-color-text-on-default-background);\n",
              "}\n",
              "\n",
              "/* On hover, darken the color of the background */\n",
              "#sk-container-id-1 div.sk-label:hover label.sk-toggleable__label {\n",
              "  color: var(--sklearn-color-text);\n",
              "  background-color: var(--sklearn-color-unfitted-level-2);\n",
              "}\n",
              "\n",
              "/* Label box, darken color on hover, fitted */\n",
              "#sk-container-id-1 div.sk-label.fitted:hover label.sk-toggleable__label.fitted {\n",
              "  color: var(--sklearn-color-text);\n",
              "  background-color: var(--sklearn-color-fitted-level-2);\n",
              "}\n",
              "\n",
              "/* Estimator label */\n",
              "\n",
              "#sk-container-id-1 div.sk-label label {\n",
              "  font-family: monospace;\n",
              "  font-weight: bold;\n",
              "  display: inline-block;\n",
              "  line-height: 1.2em;\n",
              "}\n",
              "\n",
              "#sk-container-id-1 div.sk-label-container {\n",
              "  text-align: center;\n",
              "}\n",
              "\n",
              "/* Estimator-specific */\n",
              "#sk-container-id-1 div.sk-estimator {\n",
              "  font-family: monospace;\n",
              "  border: 1px dotted var(--sklearn-color-border-box);\n",
              "  border-radius: 0.25em;\n",
              "  box-sizing: border-box;\n",
              "  margin-bottom: 0.5em;\n",
              "  /* unfitted */\n",
              "  background-color: var(--sklearn-color-unfitted-level-0);\n",
              "}\n",
              "\n",
              "#sk-container-id-1 div.sk-estimator.fitted {\n",
              "  /* fitted */\n",
              "  background-color: var(--sklearn-color-fitted-level-0);\n",
              "}\n",
              "\n",
              "/* on hover */\n",
              "#sk-container-id-1 div.sk-estimator:hover {\n",
              "  /* unfitted */\n",
              "  background-color: var(--sklearn-color-unfitted-level-2);\n",
              "}\n",
              "\n",
              "#sk-container-id-1 div.sk-estimator.fitted:hover {\n",
              "  /* fitted */\n",
              "  background-color: var(--sklearn-color-fitted-level-2);\n",
              "}\n",
              "\n",
              "/* Specification for estimator info (e.g. \"i\" and \"?\") */\n",
              "\n",
              "/* Common style for \"i\" and \"?\" */\n",
              "\n",
              ".sk-estimator-doc-link,\n",
              "a:link.sk-estimator-doc-link,\n",
              "a:visited.sk-estimator-doc-link {\n",
              "  float: right;\n",
              "  font-size: smaller;\n",
              "  line-height: 1em;\n",
              "  font-family: monospace;\n",
              "  background-color: var(--sklearn-color-background);\n",
              "  border-radius: 1em;\n",
              "  height: 1em;\n",
              "  width: 1em;\n",
              "  text-decoration: none !important;\n",
              "  margin-left: 0.5em;\n",
              "  text-align: center;\n",
              "  /* unfitted */\n",
              "  border: var(--sklearn-color-unfitted-level-1) 1pt solid;\n",
              "  color: var(--sklearn-color-unfitted-level-1);\n",
              "}\n",
              "\n",
              ".sk-estimator-doc-link.fitted,\n",
              "a:link.sk-estimator-doc-link.fitted,\n",
              "a:visited.sk-estimator-doc-link.fitted {\n",
              "  /* fitted */\n",
              "  border: var(--sklearn-color-fitted-level-1) 1pt solid;\n",
              "  color: var(--sklearn-color-fitted-level-1);\n",
              "}\n",
              "\n",
              "/* On hover */\n",
              "div.sk-estimator:hover .sk-estimator-doc-link:hover,\n",
              ".sk-estimator-doc-link:hover,\n",
              "div.sk-label-container:hover .sk-estimator-doc-link:hover,\n",
              ".sk-estimator-doc-link:hover {\n",
              "  /* unfitted */\n",
              "  background-color: var(--sklearn-color-unfitted-level-3);\n",
              "  color: var(--sklearn-color-background);\n",
              "  text-decoration: none;\n",
              "}\n",
              "\n",
              "div.sk-estimator.fitted:hover .sk-estimator-doc-link.fitted:hover,\n",
              ".sk-estimator-doc-link.fitted:hover,\n",
              "div.sk-label-container:hover .sk-estimator-doc-link.fitted:hover,\n",
              ".sk-estimator-doc-link.fitted:hover {\n",
              "  /* fitted */\n",
              "  background-color: var(--sklearn-color-fitted-level-3);\n",
              "  color: var(--sklearn-color-background);\n",
              "  text-decoration: none;\n",
              "}\n",
              "\n",
              "/* Span, style for the box shown on hovering the info icon */\n",
              ".sk-estimator-doc-link span {\n",
              "  display: none;\n",
              "  z-index: 9999;\n",
              "  position: relative;\n",
              "  font-weight: normal;\n",
              "  right: .2ex;\n",
              "  padding: .5ex;\n",
              "  margin: .5ex;\n",
              "  width: min-content;\n",
              "  min-width: 20ex;\n",
              "  max-width: 50ex;\n",
              "  color: var(--sklearn-color-text);\n",
              "  box-shadow: 2pt 2pt 4pt #999;\n",
              "  /* unfitted */\n",
              "  background: var(--sklearn-color-unfitted-level-0);\n",
              "  border: .5pt solid var(--sklearn-color-unfitted-level-3);\n",
              "}\n",
              "\n",
              ".sk-estimator-doc-link.fitted span {\n",
              "  /* fitted */\n",
              "  background: var(--sklearn-color-fitted-level-0);\n",
              "  border: var(--sklearn-color-fitted-level-3);\n",
              "}\n",
              "\n",
              ".sk-estimator-doc-link:hover span {\n",
              "  display: block;\n",
              "}\n",
              "\n",
              "/* \"?\"-specific style due to the `<a>` HTML tag */\n",
              "\n",
              "#sk-container-id-1 a.estimator_doc_link {\n",
              "  float: right;\n",
              "  font-size: 1rem;\n",
              "  line-height: 1em;\n",
              "  font-family: monospace;\n",
              "  background-color: var(--sklearn-color-background);\n",
              "  border-radius: 1rem;\n",
              "  height: 1rem;\n",
              "  width: 1rem;\n",
              "  text-decoration: none;\n",
              "  /* unfitted */\n",
              "  color: var(--sklearn-color-unfitted-level-1);\n",
              "  border: var(--sklearn-color-unfitted-level-1) 1pt solid;\n",
              "}\n",
              "\n",
              "#sk-container-id-1 a.estimator_doc_link.fitted {\n",
              "  /* fitted */\n",
              "  border: var(--sklearn-color-fitted-level-1) 1pt solid;\n",
              "  color: var(--sklearn-color-fitted-level-1);\n",
              "}\n",
              "\n",
              "/* On hover */\n",
              "#sk-container-id-1 a.estimator_doc_link:hover {\n",
              "  /* unfitted */\n",
              "  background-color: var(--sklearn-color-unfitted-level-3);\n",
              "  color: var(--sklearn-color-background);\n",
              "  text-decoration: none;\n",
              "}\n",
              "\n",
              "#sk-container-id-1 a.estimator_doc_link.fitted:hover {\n",
              "  /* fitted */\n",
              "  background-color: var(--sklearn-color-fitted-level-3);\n",
              "}\n",
              "</style><div id=\"sk-container-id-1\" class=\"sk-top-container\"><div class=\"sk-text-repr-fallback\"><pre>MultinomialNB()</pre><b>In a Jupyter environment, please rerun this cell to show the HTML representation or trust the notebook. <br />On GitHub, the HTML representation is unable to render, please try loading this page with nbviewer.org.</b></div><div class=\"sk-container\" hidden><div class=\"sk-item\"><div class=\"sk-estimator fitted sk-toggleable\"><input class=\"sk-toggleable__control sk-hidden--visually\" id=\"sk-estimator-id-1\" type=\"checkbox\" checked><label for=\"sk-estimator-id-1\" class=\"sk-toggleable__label fitted sk-toggleable__label-arrow\"><div><div>MultinomialNB</div></div><div><a class=\"sk-estimator-doc-link fitted\" rel=\"noreferrer\" target=\"_blank\" href=\"https://scikit-learn.org/1.6/modules/generated/sklearn.naive_bayes.MultinomialNB.html\">?<span>Documentation for MultinomialNB</span></a><span class=\"sk-estimator-doc-link fitted\">i<span>Fitted</span></span></div></label><div class=\"sk-toggleable__content fitted\"><pre>MultinomialNB()</pre></div> </div></div></div></div>"
            ]
          },
          "metadata": {},
          "execution_count": 34
        }
      ]
    },
    {
      "cell_type": "markdown",
      "source": [
        "# **Step 12: Make predictions**"
      ],
      "metadata": {
        "id": "-Zg3sO9M2i8K"
      }
    },
    {
      "cell_type": "code",
      "source": [
        "y_pred = model.predict(X_test_tfidf)"
      ],
      "metadata": {
        "id": "LbUhUpLkszpB"
      },
      "execution_count": 35,
      "outputs": []
    },
    {
      "cell_type": "markdown",
      "source": [
        "# **Step 13: Evaluate the model**"
      ],
      "metadata": {
        "id": "m9fmVbaw2npV"
      }
    },
    {
      "cell_type": "code",
      "source": [
        "# Get unique classes from both test and predicted data\n",
        "unique_classes = np.unique(np.concatenate([y_test, y_pred]))\n",
        "class_names = label_encoder.inverse_transform(unique_classes)\n",
        "\n",
        "print(\"\\nClassification Report:\")\n",
        "print(classification_report(y_test, y_pred, target_names=class_names))"
      ],
      "metadata": {
        "colab": {
          "base_uri": "https://localhost:8080/"
        },
        "id": "2Ejs1KAJ2vVj",
        "outputId": "c92abee6-1a41-4769-d5f0-41aac252d9f7"
      },
      "execution_count": 36,
      "outputs": [
        {
          "output_type": "stream",
          "name": "stdout",
          "text": [
            "\n",
            "Classification Report:\n",
            "                      precision    recall  f1-score   support\n",
            "\n",
            "Business & Economics       0.95      0.97      0.96      4826\n",
            "       Entertainment       0.94      0.94      0.94      6980\n",
            "Science & Technology       0.83      0.90      0.87      1600\n",
            "              Sports       0.99      0.97      0.98      8966\n",
            "\n",
            "            accuracy                           0.96     22372\n",
            "           macro avg       0.93      0.95      0.94     22372\n",
            "        weighted avg       0.96      0.96      0.96     22372\n",
            "\n"
          ]
        }
      ]
    },
    {
      "cell_type": "markdown",
      "source": [
        "### **Additional information about the classes**"
      ],
      "metadata": {
        "id": "5iob6J6622IW"
      }
    },
    {
      "cell_type": "code",
      "source": [
        "print(\"\\nNumber of classes in test set:\", len(np.unique(y_test)))\n",
        "print(\"Number of classes in predictions:\", len(np.unique(y_pred)))\n",
        "print(\"\\nClass distribution in test set:\")\n",
        "for class_id in np.unique(y_test):\n",
        "    class_name = label_encoder.inverse_transform([class_id])[0]\n",
        "    count = sum(y_test == class_id)\n",
        "    print(f\"{class_name}: {count}\")"
      ],
      "metadata": {
        "colab": {
          "base_uri": "https://localhost:8080/"
        },
        "id": "0L6S1gTtzBa9",
        "outputId": "1ff321cd-7710-458d-fad3-3803f4301ae9"
      },
      "execution_count": 37,
      "outputs": [
        {
          "output_type": "stream",
          "name": "stdout",
          "text": [
            "\n",
            "Number of classes in test set: 4\n",
            "Number of classes in predictions: 4\n",
            "\n",
            "Class distribution in test set:\n",
            "Business & Economics: 4826\n",
            "Entertainment: 6980\n",
            "Science & Technology: 1600\n",
            "Sports: 8966\n"
          ]
        }
      ]
    },
    {
      "cell_type": "markdown",
      "source": [
        "# **Step 14: Create confusion matrix**"
      ],
      "metadata": {
        "id": "CnI_zciz28yo"
      }
    },
    {
      "cell_type": "code",
      "source": [
        "cm = confusion_matrix(y_test, y_pred)\n",
        "\n",
        "plt.figure(figsize=(10, 8))\n",
        "sns.heatmap(cm, annot=True, fmt='d', cmap='Blues',\n",
        "            xticklabels=label_encoder.classes_,\n",
        "            yticklabels=label_encoder.classes_)\n",
        "plt.title('Confusion Matrix')\n",
        "plt.ylabel('True Label')\n",
        "plt.xlabel('Predicted Label')\n",
        "plt.xticks(rotation=45)\n",
        "plt.tight_layout()\n",
        "plt.show()"
      ],
      "metadata": {
        "colab": {
          "base_uri": "https://localhost:8080/",
          "height": 807
        },
        "id": "pNjuaW3v2Nau",
        "outputId": "f6180021-efa8-4ec9-efe3-f91a0d81e311"
      },
      "execution_count": 38,
      "outputs": [
        {
          "output_type": "display_data",
          "data": {
            "text/plain": [
              "<Figure size 1000x800 with 2 Axes>"
            ],
            "image/png": "[encoded data removed]"
          },
          "metadata": {}
        }
      ]
    },
    {
      "cell_type": "markdown",
      "source": [
        "# **Test Cases on unseen data**"
      ],
      "metadata": {
        "id": "517EZHGX3G5Z"
      }
    },
    {
      "cell_type": "code",
      "source": [
        "def predict_new_text(text):\n",
        "    # Preprocess the text\n",
        "    cleaned = preprocess_text(text)\n",
        "    # Transform using tf-idf\n",
        "    text_tfidf = tfidf.transform([cleaned])\n",
        "    # Predict\n",
        "    prediction = model.predict(text_tfidf)\n",
        "    # Get the predicted category name\n",
        "    predicted_category = label_encoder.inverse_transform(prediction)[0]\n",
        "    return predicted_category"
      ],
      "metadata": {
        "id": "Sb9bjB0i3ZGd"
      },
      "execution_count": 39,
      "outputs": []
    },
    {
      "cell_type": "code",
      "source": [
        "# Example usage 01:\n",
        "sample_text = \"بابر اعظم کو اس کا حق دیجیے اور فیب فائیو میں اسے شامل کیجیے\"  # Replace with actual Urdu news text\n",
        "print(\"\\nPredicted category:\", predict_new_text(sample_text))\n",
        "\n",
        "\n",
        "def predict_probabilities(text):\n",
        "    cleaned = preprocess_text(text)\n",
        "    text_tfidf = tfidf.transform([cleaned])\n",
        "    probabilities = model.predict_proba(text_tfidf)[0]\n",
        "    # Get categories and their probabilities\n",
        "    categories = label_encoder.classes_\n",
        "    prob_dict = dict(zip(categories, probabilities))\n",
        "    # Sort by probability\n",
        "    return dict(sorted(prob_dict.items(), key=lambda x: x[1], reverse=True))\n",
        "\n",
        "# Example usage:\n",
        "print(\"\\nPrediction probabilities:\", predict_probabilities(sample_text))"
      ],
      "metadata": {
        "colab": {
          "base_uri": "https://localhost:8080/"
        },
        "id": "dKxXP0WT2TBR",
        "outputId": "9bd80761-903f-42dd-dd31-9abfdad59da2"
      },
      "execution_count": 40,
      "outputs": [
        {
          "output_type": "stream",
          "name": "stdout",
          "text": [
            "\n",
            "Predicted category: Sports\n",
            "\n",
            "Prediction probabilities: {'Sports': 0.8228966537979098, 'Entertainment': 0.1140197798362497, 'Business & Economics': 0.03376850453967317, 'Science & Technology': 0.029315061826165657}\n"
          ]
        }
      ]
    },
    {
      "cell_type": "code",
      "source": [
        "# Example usage 02:\n",
        "sample_text = \"سوشل میڈیا انفلوئنسرز کی جانب سے تجارتی ایپس کی تشہیر قانونی عمل ہے؟\"  # Replace with actual Urdu news text\n",
        "print(\"\\nPredicted category:\", predict_new_text(sample_text))\n",
        "\n",
        "\n",
        "def predict_probabilities(text):\n",
        "    cleaned = preprocess_text(text)\n",
        "    text_tfidf = tfidf.transform([cleaned])\n",
        "    probabilities = model.predict_proba(text_tfidf)[0]\n",
        "    # Get categories and their probabilities\n",
        "    categories = label_encoder.classes_\n",
        "    prob_dict = dict(zip(categories, probabilities))\n",
        "    # Sort by probability\n",
        "    return dict(sorted(prob_dict.items(), key=lambda x: x[1], reverse=True))\n",
        "\n",
        "# Example usage:\n",
        "print(\"\\nPrediction probabilities:\", predict_probabilities(sample_text))"
      ],
      "metadata": {
        "colab": {
          "base_uri": "https://localhost:8080/"
        },
        "id": "3fq8fvuy8wot",
        "outputId": "7a48e078-718e-4c0b-fbbf-7ac0461a099e"
      },
      "execution_count": 41,
      "outputs": [
        {
          "output_type": "stream",
          "name": "stdout",
          "text": [
            "\n",
            "Predicted category: Science & Technology\n",
            "\n",
            "Prediction probabilities: {'Science & Technology': 0.43790835338943473, 'Entertainment': 0.37553747414899136, 'Business & Economics': 0.17089890915941777, 'Sports': 0.01565526330215722}\n"
          ]
        }
      ]
    },
    {
      "cell_type": "code",
      "source": [
        "# Example usage 03:\n",
        "sample_text = \"’جموں کی دھڑکن‘ سمجھی جانے والی انسٹاگرام سٹار سمرن سنگھ کمرے میں مردہ پائی گئیں\"  # Replace with actual Urdu news text\n",
        "print(\"\\nPredicted category:\", predict_new_text(sample_text))\n",
        "\n",
        "\n",
        "def predict_probabilities(text):\n",
        "    cleaned = preprocess_text(text)\n",
        "    text_tfidf = tfidf.transform([cleaned])\n",
        "    probabilities = model.predict_proba(text_tfidf)[0]\n",
        "    # Get categories and their probabilities\n",
        "    categories = label_encoder.classes_\n",
        "    prob_dict = dict(zip(categories, probabilities))\n",
        "    # Sort by probability\n",
        "    return dict(sorted(prob_dict.items(), key=lambda x: x[1], reverse=True))\n",
        "\n",
        "# Example usage:\n",
        "print(\"\\nPrediction probabilities:\", predict_probabilities(sample_text))"
      ],
      "metadata": {
        "colab": {
          "base_uri": "https://localhost:8080/"
        },
        "id": "nd93uoOB9Lez",
        "outputId": "3ba2ce6f-ef03-476a-af0f-385088dc86d4"
      },
      "execution_count": 42,
      "outputs": [
        {
          "output_type": "stream",
          "name": "stdout",
          "text": [
            "\n",
            "Predicted category: Entertainment\n",
            "\n",
            "Prediction probabilities: {'Entertainment': 0.8946868711146756, 'Sports': 0.08436536648776514, 'Science & Technology': 0.017954521953872687, 'Business & Economics': 0.00299324044368761}\n"
          ]
        }
      ]
    },
    {
      "cell_type": "code",
      "source": [
        "# Example usage 04:\n",
        "sample_text = \"گرل فرینڈ سے بریک اپ، انڈیا میں نوجوان کی مچھر بھگانے والی دوا سے خودکشی کی کوشش\"  # Replace with actual Urdu news text\n",
        "print(\"\\nPredicted category:\", predict_new_text(sample_text))\n",
        "\n",
        "\n",
        "def predict_probabilities(text):\n",
        "    cleaned = preprocess_text(text)\n",
        "    text_tfidf = tfidf.transform([cleaned])\n",
        "    probabilities = model.predict_proba(text_tfidf)[0]\n",
        "    # Get categories and their probabilities\n",
        "    categories = label_encoder.classes_\n",
        "    prob_dict = dict(zip(categories, probabilities))\n",
        "    # Sort by probability\n",
        "    return dict(sorted(prob_dict.items(), key=lambda x: x[1], reverse=True))\n",
        "\n",
        "# Example usage:\n",
        "print(\"\\nPrediction probabilities:\", predict_probabilities(sample_text))"
      ],
      "metadata": {
        "colab": {
          "base_uri": "https://localhost:8080/"
        },
        "id": "lO5VWEfNBEEb",
        "outputId": "0dda6d00-a470-4f44-82b3-1bb43b5e369d"
      },
      "execution_count": 43,
      "outputs": [
        {
          "output_type": "stream",
          "name": "stdout",
          "text": [
            "\n",
            "Predicted category: Entertainment\n",
            "\n",
            "Prediction probabilities: {'Entertainment': 0.940554494765136, 'Sports': 0.04062564310030906, 'Science & Technology': 0.017156125389037043, 'Business & Economics': 0.0016637367455185007}\n"
          ]
        }
      ]
    },
    {
      "cell_type": "code",
      "source": [
        "# Example usage 05:\n",
        "sample_text = \"سعودی فارورڈ صالح الشہری انجری کے باعث گلف کپ سے باہر\"  # Replace with actual Urdu news text\n",
        "print(\"\\nPredicted category:\", predict_new_text(sample_text))\n",
        "\n",
        "\n",
        "def predict_probabilities(text):\n",
        "    cleaned = preprocess_text(text)\n",
        "    text_tfidf = tfidf.transform([cleaned])\n",
        "    probabilities = model.predict_proba(text_tfidf)[0]\n",
        "    # Get categories and their probabilities\n",
        "    categories = label_encoder.classes_\n",
        "    prob_dict = dict(zip(categories, probabilities))\n",
        "    # Sort by probability\n",
        "    return dict(sorted(prob_dict.items(), key=lambda x: x[1], reverse=True))\n",
        "\n",
        "# Example usage:\n",
        "print(\"\\nPrediction probabilities:\", predict_probabilities(sample_text))"
      ],
      "metadata": {
        "colab": {
          "base_uri": "https://localhost:8080/"
        },
        "id": "67vyr88aBeNG",
        "outputId": "6b8ce33c-d2d6-43cd-f451-41ec2e7bf808"
      },
      "execution_count": 44,
      "outputs": [
        {
          "output_type": "stream",
          "name": "stdout",
          "text": [
            "\n",
            "Predicted category: Sports\n",
            "\n",
            "Prediction probabilities: {'Sports': 0.9434668115479063, 'Entertainment': 0.030856697711456067, 'Business & Economics': 0.018578589473195163, 'Science & Technology': 0.007097901267443955}\n"
          ]
        }
      ]
    },
    {
      "cell_type": "code",
      "source": [
        "# Example usage 06:\n",
        "sample_text = \"ریاستی ملکیتی اداروں نے 6 ماہ میں 147 ارب روپے کا نقصان کیا، رپورٹ میں انکشاف\"  # Replace with actual Urdu news text\n",
        "print(\"\\nPredicted category:\", predict_new_text(sample_text))\n",
        "\n",
        "\n",
        "def predict_probabilities(text):\n",
        "    cleaned = preprocess_text(text)\n",
        "    text_tfidf = tfidf.transform([cleaned])\n",
        "    probabilities = model.predict_proba(text_tfidf)[0]\n",
        "    # Get categories and their probabilities\n",
        "    categories = label_encoder.classes_\n",
        "    prob_dict = dict(zip(categories, probabilities))\n",
        "    # Sort by probability\n",
        "    return dict(sorted(prob_dict.items(), key=lambda x: x[1], reverse=True))\n",
        "\n",
        "# Example usage:\n",
        "print(\"\\nPrediction probabilities:\", predict_probabilities(sample_text))"
      ],
      "metadata": {
        "colab": {
          "base_uri": "https://localhost:8080/"
        },
        "id": "zFF38OXpBshC",
        "outputId": "eb8232af-387a-490c-f95a-1018c8962670"
      },
      "execution_count": 45,
      "outputs": [
        {
          "output_type": "stream",
          "name": "stdout",
          "text": [
            "\n",
            "Predicted category: Business & Economics\n",
            "\n",
            "Prediction probabilities: {'Business & Economics': 0.8974748246038265, 'Entertainment': 0.04419611184019111, 'Science & Technology': 0.04004691114146338, 'Sports': 0.01828215241451746}\n"
          ]
        }
      ]
    },
    {
      "cell_type": "code",
      "source": [
        "# Example usage 07:\n",
        "sample_text = \"دنیا کا سب سے بڑا انجن جو یومیہ 250 ٹن ایندھن استعمال کرتا ہے\"  # Replace with actual Urdu news text\n",
        "print(\"\\nPredicted category:\", predict_new_text(sample_text))\n",
        "\n",
        "\n",
        "def predict_probabilities(text):\n",
        "    cleaned = preprocess_text(text)\n",
        "    text_tfidf = tfidf.transform([cleaned])\n",
        "    probabilities = model.predict_proba(text_tfidf)[0]\n",
        "    # Get categories and their probabilities\n",
        "    categories = label_encoder.classes_\n",
        "    prob_dict = dict(zip(categories, probabilities))\n",
        "    # Sort by probability\n",
        "    return dict(sorted(prob_dict.items(), key=lambda x: x[1], reverse=True))\n",
        "\n",
        "# Example usage:\n",
        "print(\"\\nPrediction probabilities:\", predict_probabilities(sample_text))"
      ],
      "metadata": {
        "colab": {
          "base_uri": "https://localhost:8080/"
        },
        "id": "rHtm0LZ2CDUe",
        "outputId": "ac81a7ed-6bd4-4dc6-97ed-dcc6aa105cab"
      },
      "execution_count": 46,
      "outputs": [
        {
          "output_type": "stream",
          "name": "stdout",
          "text": [
            "\n",
            "Predicted category: Business & Economics\n",
            "\n",
            "Prediction probabilities: {'Business & Economics': 0.7123159477986609, 'Science & Technology': 0.2590737993185356, 'Entertainment': 0.025760590791863856, 'Sports': 0.002849662090937982}\n"
          ]
        }
      ]
    },
    {
      "cell_type": "code",
      "source": [
        "# Example usage 08:\n",
        "sample_text = \"رواں مالی سال ترسیلات زر میں اضافہ ریکارڈ، 5 ماہ میں ترسیلات زر 14.77 ارب ڈالر رہیں: وزارت خزانہ\"  # Replace with actual Urdu news text\n",
        "print(\"\\nPredicted category:\", predict_new_text(sample_text))\n",
        "\n",
        "\n",
        "def predict_probabilities(text):\n",
        "    cleaned = preprocess_text(text)\n",
        "    text_tfidf = tfidf.transform([cleaned])\n",
        "    probabilities = model.predict_proba(text_tfidf)[0]\n",
        "    # Get categories and their probabilities\n",
        "    categories = label_encoder.classes_\n",
        "    prob_dict = dict(zip(categories, probabilities))\n",
        "    # Sort by probability\n",
        "    return dict(sorted(prob_dict.items(), key=lambda x: x[1], reverse=True))\n",
        "\n",
        "# Example usage:\n",
        "print(\"\\nPrediction probabilities:\", predict_probabilities(sample_text))"
      ],
      "metadata": {
        "colab": {
          "base_uri": "https://localhost:8080/"
        },
        "id": "qvU6n1fLD5lr",
        "outputId": "425f8e86-2081-4a54-d0c9-67d7b81ccf7c"
      },
      "execution_count": 47,
      "outputs": [
        {
          "output_type": "stream",
          "name": "stdout",
          "text": [
            "\n",
            "Predicted category: Business & Economics\n",
            "\n",
            "Prediction probabilities: {'Business & Economics': 0.9990258049549948, 'Entertainment': 0.0006352539125006156, 'Science & Technology': 0.0002253353867299533, 'Sports': 0.00011360574577291435}\n"
          ]
        }
      ]
    },
    {
      "cell_type": "code",
      "source": [
        "# Example usage 09:\n",
        "sample_text = \"آسٹریلوی ٹینس سٹار میکس پرسل ڈوپنگ کے الزام میں معطل\"  # Replace with actual Urdu news text\n",
        "print(\"\\nPredicted category:\", predict_new_text(sample_text))\n",
        "\n",
        "\n",
        "def predict_probabilities(text):\n",
        "    cleaned = preprocess_text(text)\n",
        "    text_tfidf = tfidf.transform([cleaned])\n",
        "    probabilities = model.predict_proba(text_tfidf)[0]\n",
        "    # Get categories and their probabilities\n",
        "    categories = label_encoder.classes_\n",
        "    prob_dict = dict(zip(categories, probabilities))\n",
        "    # Sort by probability\n",
        "    return dict(sorted(prob_dict.items(), key=lambda x: x[1], reverse=True))\n",
        "\n",
        "# Example usage:\n",
        "print(\"\\nPrediction probabilities:\", predict_probabilities(sample_text))"
      ],
      "metadata": {
        "colab": {
          "base_uri": "https://localhost:8080/"
        },
        "id": "hvG6s9LrEPNQ",
        "outputId": "410ec5c1-861d-4e1a-fc04-6840f2229203"
      },
      "execution_count": 48,
      "outputs": [
        {
          "output_type": "stream",
          "name": "stdout",
          "text": [
            "\n",
            "Predicted category: Sports\n",
            "\n",
            "Prediction probabilities: {'Sports': 0.9388859375687331, 'Entertainment': 0.0491972968704925, 'Science & Technology': 0.008911687133955622, 'Business & Economics': 0.0030050784268197584}\n"
          ]
        }
      ]
    }
  ]
}